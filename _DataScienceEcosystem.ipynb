{
  "metadata": {
    "kernelspec": {
      "name": "python",
      "display_name": "Python (Pyodide)",
      "language": "python"
    },
    "language_info": {
      "codemirror_mode": {
        "name": "python",
        "version": 3
      },
      "file_extension": ".py",
      "mimetype": "text/x-python",
      "name": "python",
      "nbconvert_exporter": "python",
      "pygments_lexer": "ipython3",
      "version": "3.8"
    }
  },
  "nbformat_minor": 5,
  "nbformat": 4,
  "cells": [
    {
      "id": "5a8f150b-52da-43e6-b8ff-96559778b48e",
      "cell_type": "markdown",
      "source": "# Data Science Tools and Ecosystem",
      "metadata": {}
    },
    {
      "id": "2fc0a402-5041-489a-a646-da45d7909a0c",
      "cell_type": "markdown",
      "source": "In this notebook, Data Science Tools and Ecosystem are summarized.",
      "metadata": {}
    },
    {
      "id": "61cbf87c-2715-4cd4-9ddc-2daca2e1fd10",
      "cell_type": "markdown",
      "source": "**Objectives:**\n- Python\n- SQL\n- R",
      "metadata": {}
    },
    {
      "id": "7d12c54a-4319-4acd-89c7-33b9d7db4e9c",
      "cell_type": "markdown",
      "source": "Some of the popular languages that Data Scientists use are:",
      "metadata": {}
    },
    {
      "id": "d989372f-b5a4-4197-afd2-21a3013eb9fb",
      "cell_type": "markdown",
      "source": "1. Python\n2. SQL\n3. R\n",
      "metadata": {}
    },
    {
      "id": "0fa91010-56f4-4f8f-91ba-7d81fe3ddd9d",
      "cell_type": "markdown",
      "source": "Some of the commonly used libraries used by Data Scientists include:",
      "metadata": {}
    },
    {
      "id": "01d0edaf-227a-47f0-8cd5-893508d6fc5c",
      "cell_type": "markdown",
      "source": "1. Pandas\n2. NumPy\n3. ggplot2",
      "metadata": {}
    },
    {
      "id": "80583ebe-06bd-427c-8fec-fdaaa66d164c",
      "cell_type": "markdown",
      "source": "| Data Science Tools |\n|--------------------|\n| Jupyter Notebook |\n| RStudio |\n| VS Code |",
      "metadata": {}
    },
    {
      "id": "4d1a7729-b9cf-434c-a402-932abc9d3546",
      "cell_type": "markdown",
      "source": "### Below are a few examples of evaluating arithmetic expressions in Python",
      "metadata": {}
    },
    {
      "id": "eaf55436-5931-4b27-a333-e4f3118a2ff2",
      "cell_type": "code",
      "source": "# This a simple arithmetic expression to mutiply then add integers\n(3*4)+5",
      "metadata": {
        "trusted": true
      },
      "outputs": [
        {
          "execution_count": 9,
          "output_type": "execute_result",
          "data": {
            "text/plain": "17"
          },
          "metadata": {}
        }
      ],
      "execution_count": 9
    },
    {
      "id": "55a9d6f1-b487-4b25-aa05-0869d87c63af",
      "cell_type": "code",
      "source": "# This will convert 200 minutes to hours by diving by 60\n200 / 60",
      "metadata": {
        "trusted": true
      },
      "outputs": [
        {
          "execution_count": 10,
          "output_type": "execute_result",
          "data": {
            "text/plain": "3.3333333333333335"
          },
          "metadata": {}
        }
      ],
      "execution_count": 10
    },
    {
      "id": "5bdcc1f5-e7ec-45d5-9125-c8be0e2f7d27",
      "cell_type": "markdown",
      "source": "## AUTHOR\nValentine OLIVIER",
      "metadata": {}
    },
    {
      "id": "60ac231c-24a1-4e98-aa73-8c619d3ad63f",
      "cell_type": "code",
      "source": "",
      "metadata": {
        "trusted": true
      },
      "outputs": [],
      "execution_count": null
    }
  ]
}